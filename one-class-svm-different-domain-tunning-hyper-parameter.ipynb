{
 "cells": [
  {
   "cell_type": "code",
   "execution_count": 1,
   "metadata": {},
   "outputs": [],
   "source": [
    "from sklearn.datasets import fetch_openml\n",
    "from sklearn import svm\n",
    "from sklearn.model_selection import train_test_split\n",
    "import numpy as np\n",
    "from sklearn.utils import check_random_state\n",
    "import pickle\n",
    "import imutils\n",
    "import time"
   ]
  },
  {
   "cell_type": "code",
   "execution_count": 2,
   "metadata": {},
   "outputs": [],
   "source": [
    "import cv2\n",
    "from skimage import exposure"
   ]
  },
  {
   "cell_type": "code",
   "execution_count": 3,
   "metadata": {},
   "outputs": [],
   "source": [
    "from collections import Counter\n",
    "X_MNIST, y_MNIST = fetch_openml('mnist_784', version=1, data_home='/ScikitData', return_X_y=True)"
   ]
  },
  {
   "cell_type": "code",
   "execution_count": 4,
   "metadata": {},
   "outputs": [],
   "source": [
    "X_CIFAR, y_CIFAR = fetch_openml('CIFAR_10_small', version=1, data_home='/CIFAR_10_small', return_X_y=True)"
   ]
  },
  {
   "cell_type": "code",
   "execution_count": 5,
   "metadata": {},
   "outputs": [],
   "source": [
    "X_CIFAR_red = []\n",
    "X_CIFAR_green = []\n",
    "X_CIFAR_blue = []\n",
    "for i in range(len(X_CIFAR)):\n",
    "    X_CIFAR_red.append(X_CIFAR[i][:1024])\n",
    "    X_CIFAR_green.append(X_CIFAR[i][1024:2048])\n",
    "    X_CIFAR_blue.append(X_CIFAR[i][2048:])"
   ]
  },
  {
   "cell_type": "code",
   "execution_count": 6,
   "metadata": {},
   "outputs": [],
   "source": [
    "X_CIFAR_red = np.array(X_CIFAR_red)\n",
    "X_CIFAR_green = np.array(X_CIFAR_green)\n",
    "X_CIFAR_blue = np.array(X_CIFAR_blue)"
   ]
  },
  {
   "cell_type": "code",
   "execution_count": 7,
   "metadata": {},
   "outputs": [],
   "source": [
    "X_CIFAR_red_re = []\n",
    "for i in range(len(X_CIFAR_red)):\n",
    "    A = X_CIFAR_red[i].reshape((32,32)).astype(\"uint8\")\n",
    "    A = exposure.rescale_intensity(A, out_range=(0, 255))\n",
    "    A = imutils.resize(A, width=28)\n",
    "    A = A.reshape(784)\n",
    "    X_CIFAR_red_re.append(A)\n",
    "X_CIFAR_red_re = np.array(X_CIFAR_red_re)"
   ]
  },
  {
   "cell_type": "code",
   "execution_count": 8,
   "metadata": {},
   "outputs": [],
   "source": [
    "X_CIFAR_green_re = []\n",
    "for i in range(len(X_CIFAR_green)):\n",
    "    A = X_CIFAR_green[i].reshape((32,32)).astype(\"uint8\")\n",
    "    A = exposure.rescale_intensity(A, out_range=(0, 255))\n",
    "    A = imutils.resize(A, width=28)\n",
    "    A = A.reshape(784)\n",
    "    X_CIFAR_green_re.append(A)\n",
    "X_CIFAR_green_re = np.array(X_CIFAR_green_re)"
   ]
  },
  {
   "cell_type": "code",
   "execution_count": 9,
   "metadata": {},
   "outputs": [],
   "source": [
    "X_CIFAR_blue_re = []\n",
    "for i in range(len(X_CIFAR_blue)):\n",
    "    A = X_CIFAR_blue[i].reshape((32,32)).astype(\"uint8\")\n",
    "    A = exposure.rescale_intensity(A, out_range=(0, 255))\n",
    "    A = imutils.resize(A, width=28)\n",
    "    A = A.reshape(784)\n",
    "    X_CIFAR_blue_re.append(A)\n",
    "X_CIFAR_blue_re = np.array(X_CIFAR_blue_re)"
   ]
  },
  {
   "cell_type": "code",
   "execution_count": 13,
   "metadata": {},
   "outputs": [],
   "source": [
    "X_CIFAR_grey_re = []\n",
    "for i in range(len(X_CIFAR_red_re)):\n",
    "    # 0.2989 * R + 0.5870 * G + 0.1140 * B \n",
    "    A = 0.2989*X_CIFAR_red_re[i]+0.5870*X_CIFAR_green_re[i]+0.1140*X_CIFAR_blue_re[i]\n",
    "    X_CIFAR_grey_re.append(A)\n",
    "X_CIFAR_grey_re = np.array(X_CIFAR_grey_re)"
   ]
  },
  {
   "cell_type": "code",
   "execution_count": 14,
   "metadata": {},
   "outputs": [
    {
     "data": {
      "text/plain": [
       "(20000, 784)"
      ]
     },
     "execution_count": 14,
     "metadata": {},
     "output_type": "execute_result"
    }
   ],
   "source": [
    "X_CIFAR_grey_re.shape"
   ]
  },
  {
   "cell_type": "code",
   "execution_count": 15,
   "metadata": {},
   "outputs": [],
   "source": [
    "parameters = {'nu':[0.1, 0.3, 0.5, 0.7, 0.9]}"
   ]
  },
  {
   "cell_type": "code",
   "execution_count": 16,
   "metadata": {},
   "outputs": [
    {
     "name": "stdout",
     "output_type": "stream",
     "text": [
      "Starting the batch .0.1\n",
      "Time elapsed:\n",
      "1707.386312007904\n",
      "Starting the batch .0.3\n",
      "Time elapsed:\n",
      "4632.080651760101\n",
      "Starting the batch .0.5\n",
      "Time elapsed:\n",
      "6954.725334644318\n",
      "Starting the batch .0.7\n",
      "Time elapsed:\n",
      "9103.174491882324\n",
      "Starting the batch .0.9\n",
      "Time elapsed:\n",
      "9862.79226398468\n"
     ]
    }
   ],
   "source": [
    "models = {}\n",
    "ISS = {}\n",
    "OOS = {}\n",
    "for n in parameters['nu']:\n",
    "    print(\"Starting the batch \" +'.'+str(n))\n",
    "    start = time.time()\n",
    "    model = svm.OneClassSVM(nu=n,kernel='linear')\n",
    "    model.fit(X_MNIST)\n",
    "    pickle.dump(model, open(\"model_O\"+'.'+str(n)+\".pkl\", \"wb\"))\n",
    "    models[str(n)] = model\n",
    "    predictions_IS = model.predict(X_MNIST)\n",
    "    in_sample_score = Counter(predictions_IS)[1]/(Counter(predictions_IS)[1]+Counter(predictions_IS)[-1])\n",
    "    pickle.dump(in_sample_score, open(\"ISS_O\"+'.'+str(n)+\".pkl\", \"wb\"))\n",
    "    ISS[str(n)] = in_sample_score\n",
    "    predictions_OOS = model.predict(X_CIFAR_grey_re)\n",
    "    out_of_sample_score = Counter(predictions_OOS)[-1]/(Counter(predictions_OOS)[1]+Counter(predictions_OOS)[-1])\n",
    "    pickle.dump(out_of_sample_score, open(\"OOS_O\"+'.'+str(n)+\".pkl\", \"wb\"))\n",
    "    OOS[str(n)] = out_of_sample_score\n",
    "    end = time.time()\n",
    "    print(\"Time elapsed:\")\n",
    "    print(end - start)"
   ]
  },
  {
   "cell_type": "code",
   "execution_count": null,
   "metadata": {},
   "outputs": [],
   "source": [
    "#parameters = {'kernel':['poly'], 'nu':[0.1, 0.3, 0.5], 'gamma':[1]}"
   ]
  },
  {
   "cell_type": "code",
   "execution_count": null,
   "metadata": {},
   "outputs": [
    {
     "name": "stdout",
     "output_type": "stream",
     "text": [
      "Starting the batch poly.0.1.0.1\n",
      "Time elapsed:\n",
      "1743.3018085956573\n",
      "Starting the batch poly.0.1.1\n"
     ]
    }
   ],
   "source": [
    "'''\n",
    "models = {}\n",
    "ISS = {}\n",
    "OOS = {}\n",
    "for k in parameters['kernel']:\n",
    "    for n in parameters['nu']:\n",
    "        for g in parameters['gamma']:\n",
    "            print(\"Starting the batch \" + str(k)+'.'+str(n)+'.'+str(g))\n",
    "            start = time.time()\n",
    "            model = svm.OneClassSVM(nu=n,kernel=k,gamma=g)\n",
    "            model.fit(X_MNIST)\n",
    "            pickle.dump(model, open(\"model_O\"+str(k)+'.'+str(n)+'.'+str(g)+\".pkl\", \"wb\"))\n",
    "            models[str(k)+'.'+str(n)+'.'+str(g)] = model\n",
    "            predictions_IS = model.predict(X_MNIST)\n",
    "            in_sample_score = Counter(predictions_IS)[1]/(Counter(predictions_IS)[1]+Counter(predictions_IS)[-1])\n",
    "            pickle.dump(in_sample_score, open(\"ISS_O\"+str(k)+'.'+str(n)+'.'+str(g)+\".pkl\", \"wb\"))\n",
    "            ISS[str(k)+'.'+str(n)+'.'+str(g)] = in_sample_score\n",
    "            predictions_OOS = model.predict(X_CIFAR_grey_re)\n",
    "            out_of_sample_score = Counter(predictions_OOS)[-1]/(Counter(predictions_OOS)[1]+Counter(predictions_OOS)[-1])\n",
    "            pickle.dump(out_of_sample_score, open(\"OOS_O\"+str(k)+'.'+str(n)+'.'+str(g)+\".pkl\", \"wb\"))\n",
    "            OOS[str(k)+'.'+str(n)+'.'+str(g)] = out_of_sample_score\n",
    "            end = time.time()\n",
    "            print(\"Time elapsed:\")\n",
    "            print(end - start)\n",
    "'''"
   ]
  },
  {
   "cell_type": "code",
   "execution_count": null,
   "metadata": {},
   "outputs": [],
   "source": []
  }
 ],
 "metadata": {
  "kernelspec": {
   "display_name": "Python 3",
   "language": "python",
   "name": "python3"
  },
  "language_info": {
   "codemirror_mode": {
    "name": "ipython",
    "version": 3
   },
   "file_extension": ".py",
   "mimetype": "text/x-python",
   "name": "python",
   "nbconvert_exporter": "python",
   "pygments_lexer": "ipython3",
   "version": "3.7.3"
  }
 },
 "nbformat": 4,
 "nbformat_minor": 2
}
