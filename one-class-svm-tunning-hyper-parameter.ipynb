{
 "cells": [
  {
   "cell_type": "code",
   "execution_count": 1,
   "metadata": {},
   "outputs": [],
   "source": [
    "from sklearn.datasets import fetch_openml\n",
    "from sklearn import svm\n",
    "from sklearn.model_selection import train_test_split\n",
    "import numpy as np\n",
    "from sklearn.utils import check_random_state\n",
    "from sklearn.model_selection import GridSearchCV"
   ]
  },
  {
   "cell_type": "code",
   "execution_count": 2,
   "metadata": {},
   "outputs": [],
   "source": [
    "from collections import Counter\n",
    "import pickle\n",
    "import time"
   ]
  },
  {
   "cell_type": "code",
   "execution_count": 3,
   "metadata": {},
   "outputs": [],
   "source": [
    "X, y = fetch_openml('mnist_784', version=1, data_home='/ScikitData', return_X_y=True)"
   ]
  },
  {
   "cell_type": "code",
   "execution_count": 4,
   "metadata": {},
   "outputs": [],
   "source": [
    "def find_idx(arr, target):\n",
    "    ans = []\n",
    "    for i in range(len(arr)):\n",
    "        if arr[i] == target:\n",
    "            ans.append(i)\n",
    "    return ans"
   ]
  },
  {
   "cell_type": "code",
   "execution_count": 5,
   "metadata": {},
   "outputs": [],
   "source": [
    "idx_test = find_idx(y,\"9\")"
   ]
  },
  {
   "cell_type": "code",
   "execution_count": 6,
   "metadata": {},
   "outputs": [],
   "source": [
    "idx_train = list(set(range(len(y))).difference(set(idx_test)))"
   ]
  },
  {
   "cell_type": "code",
   "execution_count": 7,
   "metadata": {},
   "outputs": [],
   "source": [
    "X_train = X[idx_train]\n",
    "X_test = X[idx_test]\n",
    "y_train = y[idx_train]\n",
    "y_test = y[idx_test]"
   ]
  },
  {
   "cell_type": "code",
   "execution_count": 8,
   "metadata": {},
   "outputs": [],
   "source": [
    "parameters = {'nu':[0.1, 0.3, 0.5]}"
   ]
  },
  {
   "cell_type": "code",
   "execution_count": 9,
   "metadata": {},
   "outputs": [
    {
     "name": "stdout",
     "output_type": "stream",
     "text": [
      "Starting the batch .0.1\n",
      "Time elapsed:\n",
      "1331.561294078827\n",
      "Starting the batch .0.3\n",
      "Time elapsed:\n",
      "3666.86416888237\n",
      "Starting the batch .0.5\n",
      "Time elapsed:\n",
      "5389.891309499741\n"
     ]
    }
   ],
   "source": [
    "models = {}\n",
    "ISS = {}\n",
    "OOS = {}\n",
    "for n in parameters['nu']:\n",
    "    print(\"Starting the batch \" +'.'+str(n))\n",
    "    start = time.time()\n",
    "    model = svm.OneClassSVM(nu=n,kernel='linear')\n",
    "    model.fit(X_train)\n",
    "    pickle.dump(model, open(\"model\"+'.'+str(n)+\".pkl\", \"wb\"))\n",
    "    models[str(n)] = model\n",
    "    predictions_IS = model.predict(X_train)\n",
    "    in_sample_score = Counter(predictions_IS)[1]/(Counter(predictions_IS)[1]+Counter(predictions_IS)[-1])\n",
    "    pickle.dump(in_sample_score, open(\"ISS\"+'.'+str(n)+\".pkl\", \"wb\"))\n",
    "    ISS[str(n)] = in_sample_score\n",
    "    predictions_OOS = model.predict(X_test)\n",
    "    out_of_sample_score = Counter(predictions_OOS)[-1]/(Counter(predictions_OOS)[1]+Counter(predictions_OOS)[-1])\n",
    "    pickle.dump(out_of_sample_score, open(\"OOS\"+'.'+str(n)+\".pkl\", \"wb\"))\n",
    "    OOS[str(n)] = out_of_sample_score\n",
    "    end = time.time()\n",
    "    print(\"Time elapsed:\")\n",
    "    print(end - start)"
   ]
  },
  {
   "cell_type": "code",
   "execution_count": 15,
   "metadata": {},
   "outputs": [
    {
     "name": "stdout",
     "output_type": "stream",
     "text": [
      "0.1\n",
      "ISS\n",
      "0.8999714476063577\n",
      "OOS\n",
      "0.061655648174762864\n",
      "0.3\n",
      "ISS\n",
      "0.6999619301418102\n",
      "OOS\n",
      "0.23584363322793905\n",
      "0.5\n",
      "ISS\n",
      "0.5000158624409125\n",
      "OOS\n",
      "0.4787295199770049\n"
     ]
    }
   ],
   "source": [
    "import pickle\n",
    "for n in [0.1,0.3,0.5]:\n",
    "    print(str(n))\n",
    "    print(\"ISS\")\n",
    "    fp = open(\"ISS\"+'.'+str(n)+\".pkl\",\"rb+\")\n",
    "    A = pickle.load(fp, encoding='bytes')\n",
    "    print(A)\n",
    "    print(\"OOS\")\n",
    "    fp = open(\"OOS\"+'.'+str(n)+\".pkl\",\"rb+\")\n",
    "    A = pickle.load(fp, encoding='bytes')\n",
    "    print(A)"
   ]
  },
  {
   "cell_type": "code",
   "execution_count": 10,
   "metadata": {},
   "outputs": [],
   "source": [
    "parameters = {'kernel':['poly'], 'nu':[0.1, 0.3, 0.5], 'gamma':[0.1,1,10]}"
   ]
  },
  {
   "cell_type": "code",
   "execution_count": 11,
   "metadata": {},
   "outputs": [
    {
     "name": "stdout",
     "output_type": "stream",
     "text": [
      "Starting the batch poly.0.1.0.1\n",
      "Time elapsed:\n",
      "1352.8279485702515\n",
      "Starting the batch poly.0.1.1\n",
      "Time elapsed:\n",
      "1355.326684474945\n",
      "Starting the batch poly.0.1.10\n",
      "Time elapsed:\n",
      "1349.9955577850342\n",
      "Starting the batch poly.0.3.0.1\n",
      "Time elapsed:\n",
      "3660.5943517684937\n",
      "Starting the batch poly.0.3.1\n",
      "Time elapsed:\n",
      "3595.498925924301\n",
      "Starting the batch poly.0.3.10\n",
      "Time elapsed:\n",
      "3595.443622112274\n",
      "Starting the batch poly.0.5.0.1\n",
      "Time elapsed:\n",
      "5272.698080778122\n",
      "Starting the batch poly.0.5.1\n",
      "Time elapsed:\n",
      "5309.4495005607605\n",
      "Starting the batch poly.0.5.10\n",
      "Time elapsed:\n",
      "5323.000806570053\n"
     ]
    }
   ],
   "source": [
    "models = {}\n",
    "ISS = {}\n",
    "OOS = {}\n",
    "for k in parameters['kernel']:\n",
    "    for n in parameters['nu']:\n",
    "        for g in parameters['gamma']:\n",
    "            print(\"Starting the batch \" + str(k)+'.'+str(n)+'.'+str(g))\n",
    "            start = time.time()\n",
    "            model = svm.OneClassSVM(nu=n,kernel=k,gamma=g)\n",
    "            model.fit(X_train)\n",
    "            pickle.dump(model, open(\"model\"+str(k)+'.'+str(n)+'.'+str(g)+\".pkl\", \"wb\"))\n",
    "            models[str(k)+'.'+str(n)+'.'+str(g)] = model\n",
    "            predictions_IS = model.predict(X_train)\n",
    "            in_sample_score = Counter(predictions_IS)[1]/(Counter(predictions_IS)[1]+Counter(predictions_IS)[-1])\n",
    "            pickle.dump(in_sample_score, open(\"ISS\"+str(k)+'.'+str(n)+'.'+str(g)+\".pkl\", \"wb\"))\n",
    "            ISS[str(k)+'.'+str(n)+'.'+str(g)] = in_sample_score\n",
    "            predictions_OOS = model.predict(X_test)\n",
    "            out_of_sample_score = Counter(predictions_OOS)[-1]/(Counter(predictions_OOS)[1]+Counter(predictions_OOS)[-1])\n",
    "            pickle.dump(out_of_sample_score, open(\"OOS\"+str(k)+'.'+str(n)+'.'+str(g)+\".pkl\", \"wb\"))\n",
    "            OOS[str(k)+'.'+str(n)+'.'+str(g)] = out_of_sample_score\n",
    "            end = time.time()\n",
    "            print(\"Time elapsed:\")\n",
    "            print(end - start)"
   ]
  },
  {
   "cell_type": "code",
   "execution_count": 12,
   "metadata": {},
   "outputs": [
    {
     "data": {
      "text/plain": [
       "{'poly.0.1.0.1': 0.8999238602836205,\n",
       " 'poly.0.1.1': 0.8998762729608832,\n",
       " 'poly.0.1.10': 0.8999873100472701,\n",
       " 'poly.0.3.0.1': 0.6999777925827226,\n",
       " 'poly.0.3.1': 0.7000888296691095,\n",
       " 'poly.0.3.10': 0.7000412423463722,\n",
       " 'poly.0.5.0.1': 0.5000634497636496,\n",
       " 'poly.0.5.1': 0.4999682751181752,\n",
       " 'poly.0.5.10': 0.5}"
      ]
     },
     "execution_count": 12,
     "metadata": {},
     "output_type": "execute_result"
    }
   ],
   "source": [
    "ISS"
   ]
  },
  {
   "cell_type": "code",
   "execution_count": 13,
   "metadata": {},
   "outputs": [
    {
     "data": {
      "text/plain": [
       "{'poly.0.1.0.1': 0.07660247197470538,\n",
       " 'poly.0.1.1': 0.07660247197470538,\n",
       " 'poly.0.1.10': 0.07660247197470538,\n",
       " 'poly.0.3.0.1': 0.2655935613682093,\n",
       " 'poly.0.3.1': 0.2655935613682093,\n",
       " 'poly.0.3.10': 0.2655935613682093,\n",
       " 'poly.0.5.0.1': 0.49942512216154067,\n",
       " 'poly.0.5.1': 0.49942512216154067,\n",
       " 'poly.0.5.10': 0.49942512216154067}"
      ]
     },
     "execution_count": 13,
     "metadata": {},
     "output_type": "execute_result"
    }
   ],
   "source": [
    "OOS"
   ]
  },
  {
   "cell_type": "code",
   "execution_count": 16,
   "metadata": {},
   "outputs": [],
   "source": [
    "from itertools import cycle\n",
    "\n",
    "from sklearn import svm, datasets\n",
    "from sklearn.metrics import roc_curve, auc\n",
    "from sklearn.model_selection import train_test_split\n",
    "from sklearn.preprocessing import label_binarize\n",
    "from sklearn.multiclass import OneVsRestClassifier\n",
    "from scipy import interp"
   ]
  },
  {
   "cell_type": "code",
   "execution_count": null,
   "metadata": {},
   "outputs": [],
   "source": [
    "classifier = svm.SVC(kernel='linear', probability=True,\n",
    "                                 random_state=random_state)\n",
    "y_score = models['poly.0.5.10'].fit(X_train, y_train).decision_function(X_test)"
   ]
  }
 ],
 "metadata": {
  "kernelspec": {
   "display_name": "Python 3",
   "language": "python",
   "name": "python3"
  },
  "language_info": {
   "codemirror_mode": {
    "name": "ipython",
    "version": 3
   },
   "file_extension": ".py",
   "mimetype": "text/x-python",
   "name": "python",
   "nbconvert_exporter": "python",
   "pygments_lexer": "ipython3",
   "version": "3.7.3"
  }
 },
 "nbformat": 4,
 "nbformat_minor": 2
}
