{
 "cells": [
  {
   "cell_type": "code",
   "execution_count": 1,
   "metadata": {},
   "outputs": [],
   "source": [
    "from sklearn.datasets import fetch_openml\n",
    "from sklearn import svm\n",
    "from sklearn.model_selection import train_test_split\n",
    "import numpy as np\n",
    "from sklearn.utils import check_random_state\n",
    "import time\n",
    "import pickle\n",
    "X, y = fetch_openml('mnist_784', version=1, return_X_y=True)\n",
    "def find_idx(arr, target):\n",
    "    ans = []\n",
    "    for i in range(len(arr)):\n",
    "        if arr[i] == target:\n",
    "            ans.append(i)\n",
    "    return ans"
   ]
  },
  {
   "cell_type": "code",
   "execution_count": null,
   "metadata": {},
   "outputs": [
    {
     "name": "stdout",
     "output_type": "stream",
     "text": [
      "Starting the batch 0\n",
      "Time elapsed:\n",
      "20236.531727552414\n",
      "Starting the batch 1\n"
     ]
    }
   ],
   "source": [
    "models = []\n",
    "result = []\n",
    "for i in range(10):\n",
    "    print(\"Starting the batch \" + str(i))\n",
    "    start = time.time()\n",
    "    idx_test = find_idx(y,str(i))\n",
    "    idx_train = list(set(range(len(y))).difference(set(idx_test)))\n",
    "    X_train = X[idx_train]\n",
    "    X_test = X[idx_test]\n",
    "    y_train = y[idx_train]\n",
    "    y_test = y[idx_test]\n",
    "    model = svm.OneClassSVM(nu=0.1,kernel='rbf',gamma=0.1)\n",
    "    model.fit(X_train)\n",
    "    models.append(model)\n",
    "    predictions = model.predict(X_test)\n",
    "    result.append(predictions)\n",
    "    end = time.time()\n",
    "    print(\"Time elapsed:\")\n",
    "    print(end - start)\n",
    "    pickle.dump(models[i], open(\"model_ocs\" + str(i) + \".pkl\", \"wb\"))  # save it into a file named save.p\n",
    "    pickle.dump(predictions[i], open(\"prediction_ocs\" + str(i) + \".pkl\", \"wb\"))  # save it into a file named save.p"
   ]
  },
  {
   "cell_type": "code",
   "execution_count": null,
   "metadata": {},
   "outputs": [],
   "source": []
  }
 ],
 "metadata": {
  "kernelspec": {
   "display_name": "Python 3",
   "language": "python",
   "name": "python3"
  },
  "language_info": {
   "codemirror_mode": {
    "name": "ipython",
    "version": 3
   },
   "file_extension": ".py",
   "mimetype": "text/x-python",
   "name": "python",
   "nbconvert_exporter": "python",
   "pygments_lexer": "ipython3",
   "version": "3.7.3"
  }
 },
 "nbformat": 4,
 "nbformat_minor": 2
}
